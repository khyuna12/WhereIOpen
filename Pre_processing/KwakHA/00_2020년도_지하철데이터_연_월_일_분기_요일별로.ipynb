{
 "cells": [
  {
   "cell_type": "code",
   "execution_count": 1,
   "id": "05a5aefd",
   "metadata": {},
   "outputs": [],
   "source": [
    "import pandas as pd\n",
    "import numpy as np\n",
    "import datetime as dt"
   ]
  },
  {
   "cell_type": "code",
   "execution_count": 2,
   "id": "b6c238a6",
   "metadata": {},
   "outputs": [
    {
     "data": {
      "text/html": [
       "<div>\n",
       "<style scoped>\n",
       "    .dataframe tbody tr th:only-of-type {\n",
       "        vertical-align: middle;\n",
       "    }\n",
       "\n",
       "    .dataframe tbody tr th {\n",
       "        vertical-align: top;\n",
       "    }\n",
       "\n",
       "    .dataframe thead th {\n",
       "        text-align: right;\n",
       "    }\n",
       "</style>\n",
       "<table border=\"1\" class=\"dataframe\">\n",
       "  <thead>\n",
       "    <tr style=\"text-align: right;\">\n",
       "      <th></th>\n",
       "      <th>Unnamed: 0</th>\n",
       "      <th>날짜</th>\n",
       "      <th>호선</th>\n",
       "      <th>역번호</th>\n",
       "      <th>역명</th>\n",
       "      <th>구분</th>\n",
       "      <th>00-11</th>\n",
       "      <th>11-17</th>\n",
       "      <th>17-24</th>\n",
       "    </tr>\n",
       "  </thead>\n",
       "  <tbody>\n",
       "    <tr>\n",
       "      <th>0</th>\n",
       "      <td>0</td>\n",
       "      <td>2020-01-01</td>\n",
       "      <td>1호선</td>\n",
       "      <td>150</td>\n",
       "      <td>서울역</td>\n",
       "      <td>하차</td>\n",
       "      <td>6407</td>\n",
       "      <td>13727</td>\n",
       "      <td>9951</td>\n",
       "    </tr>\n",
       "    <tr>\n",
       "      <th>1</th>\n",
       "      <td>1</td>\n",
       "      <td>2020-01-01</td>\n",
       "      <td>1호선</td>\n",
       "      <td>151</td>\n",
       "      <td>시청</td>\n",
       "      <td>하차</td>\n",
       "      <td>2431</td>\n",
       "      <td>5376</td>\n",
       "      <td>2801</td>\n",
       "    </tr>\n",
       "    <tr>\n",
       "      <th>2</th>\n",
       "      <td>2</td>\n",
       "      <td>2020-01-01</td>\n",
       "      <td>1호선</td>\n",
       "      <td>152</td>\n",
       "      <td>종각</td>\n",
       "      <td>하차</td>\n",
       "      <td>2949</td>\n",
       "      <td>8958</td>\n",
       "      <td>4494</td>\n",
       "    </tr>\n",
       "    <tr>\n",
       "      <th>3</th>\n",
       "      <td>3</td>\n",
       "      <td>2020-01-01</td>\n",
       "      <td>1호선</td>\n",
       "      <td>153</td>\n",
       "      <td>종로3가</td>\n",
       "      <td>하차</td>\n",
       "      <td>2299</td>\n",
       "      <td>10033</td>\n",
       "      <td>3028</td>\n",
       "    </tr>\n",
       "    <tr>\n",
       "      <th>4</th>\n",
       "      <td>4</td>\n",
       "      <td>2020-01-01</td>\n",
       "      <td>1호선</td>\n",
       "      <td>154</td>\n",
       "      <td>종로5가</td>\n",
       "      <td>하차</td>\n",
       "      <td>1554</td>\n",
       "      <td>7729</td>\n",
       "      <td>2714</td>\n",
       "    </tr>\n",
       "  </tbody>\n",
       "</table>\n",
       "</div>"
      ],
      "text/plain": [
       "   Unnamed: 0          날짜   호선  역번호    역명  구분  00-11  11-17  17-24\n",
       "0           0  2020-01-01  1호선  150   서울역  하차   6407  13727   9951\n",
       "1           1  2020-01-01  1호선  151    시청  하차   2431   5376   2801\n",
       "2           2  2020-01-01  1호선  152    종각  하차   2949   8958   4494\n",
       "3           3  2020-01-01  1호선  153  종로3가  하차   2299  10033   3028\n",
       "4           4  2020-01-01  1호선  154  종로5가  하차   1554   7729   2714"
      ]
     },
     "execution_count": 2,
     "metadata": {},
     "output_type": "execute_result"
    }
   ],
   "source": [
    "df = pd.read_csv('./2020년도_1~8호선_지하철데이터_시간대별.csv', encoding='cp949')\n",
    "df.head()"
   ]
  },
  {
   "cell_type": "code",
   "execution_count": 3,
   "id": "fbe05fc5",
   "metadata": {},
   "outputs": [
    {
     "name": "stdout",
     "output_type": "stream",
     "text": [
      "<class 'pandas.core.frame.DataFrame'>\n",
      "RangeIndex: 101140 entries, 0 to 101139\n",
      "Data columns (total 9 columns):\n",
      " #   Column      Non-Null Count   Dtype \n",
      "---  ------      --------------   ----- \n",
      " 0   Unnamed: 0  101140 non-null  int64 \n",
      " 1   날짜          101140 non-null  object\n",
      " 2   호선          101140 non-null  object\n",
      " 3   역번호         101140 non-null  int64 \n",
      " 4   역명          101140 non-null  object\n",
      " 5   구분          101140 non-null  object\n",
      " 6   00-11       101140 non-null  int64 \n",
      " 7   11-17       101140 non-null  int64 \n",
      " 8   17-24       101140 non-null  int64 \n",
      "dtypes: int64(5), object(4)\n",
      "memory usage: 6.9+ MB\n"
     ]
    }
   ],
   "source": [
    "df.info()"
   ]
  },
  {
   "cell_type": "code",
   "execution_count": 4,
   "id": "7a48a972",
   "metadata": {},
   "outputs": [],
   "source": [
    "df['날짜'] = df['날짜'].astype('str')"
   ]
  },
  {
   "cell_type": "code",
   "execution_count": 5,
   "id": "3419d8ce",
   "metadata": {
    "scrolled": true
   },
   "outputs": [
    {
     "name": "stdout",
     "output_type": "stream",
     "text": [
      "<class 'pandas.core.frame.DataFrame'>\n",
      "RangeIndex: 101140 entries, 0 to 101139\n",
      "Data columns (total 9 columns):\n",
      " #   Column      Non-Null Count   Dtype \n",
      "---  ------      --------------   ----- \n",
      " 0   Unnamed: 0  101140 non-null  int64 \n",
      " 1   날짜          101140 non-null  object\n",
      " 2   호선          101140 non-null  object\n",
      " 3   역번호         101140 non-null  int64 \n",
      " 4   역명          101140 non-null  object\n",
      " 5   구분          101140 non-null  object\n",
      " 6   00-11       101140 non-null  int64 \n",
      " 7   11-17       101140 non-null  int64 \n",
      " 8   17-24       101140 non-null  int64 \n",
      "dtypes: int64(5), object(4)\n",
      "memory usage: 6.9+ MB\n"
     ]
    }
   ],
   "source": [
    "df.info()"
   ]
  },
  {
   "cell_type": "code",
   "execution_count": 6,
   "id": "8d1d08c9",
   "metadata": {},
   "outputs": [
    {
     "name": "stdout",
     "output_type": "stream",
     "text": [
      "<class 'pandas.core.frame.DataFrame'>\n",
      "RangeIndex: 101140 entries, 0 to 101139\n",
      "Data columns (total 9 columns):\n",
      " #   Column      Non-Null Count   Dtype         \n",
      "---  ------      --------------   -----         \n",
      " 0   Unnamed: 0  101140 non-null  int64         \n",
      " 1   날짜          101140 non-null  datetime64[ns]\n",
      " 2   호선          101140 non-null  object        \n",
      " 3   역번호         101140 non-null  int64         \n",
      " 4   역명          101140 non-null  object        \n",
      " 5   구분          101140 non-null  object        \n",
      " 6   00-11       101140 non-null  int64         \n",
      " 7   11-17       101140 non-null  int64         \n",
      " 8   17-24       101140 non-null  int64         \n",
      "dtypes: datetime64[ns](1), int64(5), object(3)\n",
      "memory usage: 6.9+ MB\n"
     ]
    }
   ],
   "source": [
    "df['날짜'] = pd.to_datetime(df['날짜'])\n",
    "df.info()"
   ]
  },
  {
   "cell_type": "code",
   "execution_count": 7,
   "id": "c09da47a",
   "metadata": {},
   "outputs": [],
   "source": [
    "df['년'] = df['날짜'].dt.year\n",
    "df['월'] = df['날짜'].dt.month\n",
    "df['일'] = df['날짜'].dt.day\n",
    "df['분기'] = df['날짜'].dt.quarter\n",
    "df['요일'] = df['날짜'].dt.weekday"
   ]
  },
  {
   "cell_type": "code",
   "execution_count": 8,
   "id": "533557a8",
   "metadata": {},
   "outputs": [],
   "source": [
    "# 0~6번 인덱스 위치에 각 한글 요일 이름이 담긴 리스트\n",
    "weekday_list = ['월', '화', '수', '목', '금', '토', '일']\n",
    "\n",
    "# apply 함수로 숫자 -> 요일 이름으로 변환\n",
    "df['요일'] = df.apply(lambda x : weekday_list[x['요일']], axis = 1)"
   ]
  },
  {
   "cell_type": "code",
   "execution_count": 9,
   "id": "7dcaa1be",
   "metadata": {},
   "outputs": [
    {
     "data": {
      "text/html": [
       "<div>\n",
       "<style scoped>\n",
       "    .dataframe tbody tr th:only-of-type {\n",
       "        vertical-align: middle;\n",
       "    }\n",
       "\n",
       "    .dataframe tbody tr th {\n",
       "        vertical-align: top;\n",
       "    }\n",
       "\n",
       "    .dataframe thead th {\n",
       "        text-align: right;\n",
       "    }\n",
       "</style>\n",
       "<table border=\"1\" class=\"dataframe\">\n",
       "  <thead>\n",
       "    <tr style=\"text-align: right;\">\n",
       "      <th></th>\n",
       "      <th>Unnamed: 0</th>\n",
       "      <th>날짜</th>\n",
       "      <th>호선</th>\n",
       "      <th>역번호</th>\n",
       "      <th>역명</th>\n",
       "      <th>구분</th>\n",
       "      <th>00-11</th>\n",
       "      <th>11-17</th>\n",
       "      <th>17-24</th>\n",
       "      <th>년</th>\n",
       "      <th>월</th>\n",
       "      <th>일</th>\n",
       "      <th>분기</th>\n",
       "      <th>요일</th>\n",
       "    </tr>\n",
       "  </thead>\n",
       "  <tbody>\n",
       "    <tr>\n",
       "      <th>0</th>\n",
       "      <td>0</td>\n",
       "      <td>2020-01-01</td>\n",
       "      <td>1호선</td>\n",
       "      <td>150</td>\n",
       "      <td>서울역</td>\n",
       "      <td>하차</td>\n",
       "      <td>6407</td>\n",
       "      <td>13727</td>\n",
       "      <td>9951</td>\n",
       "      <td>2020</td>\n",
       "      <td>1</td>\n",
       "      <td>1</td>\n",
       "      <td>1</td>\n",
       "      <td>수</td>\n",
       "    </tr>\n",
       "    <tr>\n",
       "      <th>1</th>\n",
       "      <td>1</td>\n",
       "      <td>2020-01-01</td>\n",
       "      <td>1호선</td>\n",
       "      <td>151</td>\n",
       "      <td>시청</td>\n",
       "      <td>하차</td>\n",
       "      <td>2431</td>\n",
       "      <td>5376</td>\n",
       "      <td>2801</td>\n",
       "      <td>2020</td>\n",
       "      <td>1</td>\n",
       "      <td>1</td>\n",
       "      <td>1</td>\n",
       "      <td>수</td>\n",
       "    </tr>\n",
       "    <tr>\n",
       "      <th>2</th>\n",
       "      <td>2</td>\n",
       "      <td>2020-01-01</td>\n",
       "      <td>1호선</td>\n",
       "      <td>152</td>\n",
       "      <td>종각</td>\n",
       "      <td>하차</td>\n",
       "      <td>2949</td>\n",
       "      <td>8958</td>\n",
       "      <td>4494</td>\n",
       "      <td>2020</td>\n",
       "      <td>1</td>\n",
       "      <td>1</td>\n",
       "      <td>1</td>\n",
       "      <td>수</td>\n",
       "    </tr>\n",
       "    <tr>\n",
       "      <th>3</th>\n",
       "      <td>3</td>\n",
       "      <td>2020-01-01</td>\n",
       "      <td>1호선</td>\n",
       "      <td>153</td>\n",
       "      <td>종로3가</td>\n",
       "      <td>하차</td>\n",
       "      <td>2299</td>\n",
       "      <td>10033</td>\n",
       "      <td>3028</td>\n",
       "      <td>2020</td>\n",
       "      <td>1</td>\n",
       "      <td>1</td>\n",
       "      <td>1</td>\n",
       "      <td>수</td>\n",
       "    </tr>\n",
       "    <tr>\n",
       "      <th>4</th>\n",
       "      <td>4</td>\n",
       "      <td>2020-01-01</td>\n",
       "      <td>1호선</td>\n",
       "      <td>154</td>\n",
       "      <td>종로5가</td>\n",
       "      <td>하차</td>\n",
       "      <td>1554</td>\n",
       "      <td>7729</td>\n",
       "      <td>2714</td>\n",
       "      <td>2020</td>\n",
       "      <td>1</td>\n",
       "      <td>1</td>\n",
       "      <td>1</td>\n",
       "      <td>수</td>\n",
       "    </tr>\n",
       "  </tbody>\n",
       "</table>\n",
       "</div>"
      ],
      "text/plain": [
       "   Unnamed: 0         날짜   호선  역번호    역명  구분  00-11  11-17  17-24     년  월  일  \\\n",
       "0           0 2020-01-01  1호선  150   서울역  하차   6407  13727   9951  2020  1  1   \n",
       "1           1 2020-01-01  1호선  151    시청  하차   2431   5376   2801  2020  1  1   \n",
       "2           2 2020-01-01  1호선  152    종각  하차   2949   8958   4494  2020  1  1   \n",
       "3           3 2020-01-01  1호선  153  종로3가  하차   2299  10033   3028  2020  1  1   \n",
       "4           4 2020-01-01  1호선  154  종로5가  하차   1554   7729   2714  2020  1  1   \n",
       "\n",
       "   분기 요일  \n",
       "0   1  수  \n",
       "1   1  수  \n",
       "2   1  수  \n",
       "3   1  수  \n",
       "4   1  수  "
      ]
     },
     "execution_count": 9,
     "metadata": {},
     "output_type": "execute_result"
    }
   ],
   "source": [
    "df.head()"
   ]
  },
  {
   "cell_type": "code",
   "execution_count": 10,
   "id": "6bbe796c",
   "metadata": {},
   "outputs": [],
   "source": [
    "df.to_csv('./2020_지하철역하차인원_연도_월_일_분기_요일별.csv', encoding='cp949', index=False)"
   ]
  },
  {
   "cell_type": "code",
   "execution_count": null,
   "id": "1fbb3187",
   "metadata": {},
   "outputs": [],
   "source": []
  }
 ],
 "metadata": {
  "kernelspec": {
   "display_name": "Python 3 (ipykernel)",
   "language": "python",
   "name": "python3"
  },
  "language_info": {
   "codemirror_mode": {
    "name": "ipython",
    "version": 3
   },
   "file_extension": ".py",
   "mimetype": "text/x-python",
   "name": "python",
   "nbconvert_exporter": "python",
   "pygments_lexer": "ipython3",
   "version": "3.8.12"
  }
 },
 "nbformat": 4,
 "nbformat_minor": 5
}
